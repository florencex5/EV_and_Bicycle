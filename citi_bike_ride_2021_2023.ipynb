{
 "cells": [
  {
   "cell_type": "code",
   "execution_count": 1,
   "id": "67c60c03",
   "metadata": {},
   "outputs": [],
   "source": [
    "# Dependencies\n",
    "import pandas as pd"
   ]
  },
  {
   "cell_type": "markdown",
   "id": "bb9aeba0",
   "metadata": {},
   "source": [
    "## Citi Bike 2023 Monthly Total Rides"
   ]
  },
  {
   "cell_type": "code",
   "execution_count": 2,
   "id": "0676445f",
   "metadata": {},
   "outputs": [],
   "source": [
    "# Create separate variable for counting monthly rides\n",
    "column_counts = []\n",
    "\n",
    "# Specify the target column\n",
    "target_column = 'ride_id'\n",
    "\n",
    "for i in range(1,12):\n",
    "    file_name = f'resource/citi2023_{i}.csv'\n",
    "    df = pd.read_csv(file_name)\n",
    "    \n",
    "    column_count = df[target_column].count()\n",
    "    \n",
    "    column_counts.append(column_count)\n",
    "\n",
    "# Create a new DataFrame for future graphing purpose\n",
    "result2023_df = pd.DataFrame({\n",
    "    'Period': [f'citi2023_{i}' for i in range(1, 12)],\n",
    "    'total_montly_ride_counts': column_counts\n",
    "})"
   ]
  },
  {
   "cell_type": "code",
   "execution_count": 3,
   "id": "099c5cba",
   "metadata": {},
   "outputs": [
    {
     "data": {
      "text/html": [
       "<div>\n",
       "<style scoped>\n",
       "    .dataframe tbody tr th:only-of-type {\n",
       "        vertical-align: middle;\n",
       "    }\n",
       "\n",
       "    .dataframe tbody tr th {\n",
       "        vertical-align: top;\n",
       "    }\n",
       "\n",
       "    .dataframe thead th {\n",
       "        text-align: right;\n",
       "    }\n",
       "</style>\n",
       "<table border=\"1\" class=\"dataframe\">\n",
       "  <thead>\n",
       "    <tr style=\"text-align: right;\">\n",
       "      <th></th>\n",
       "      <th>Period</th>\n",
       "      <th>total_montly_ride_counts</th>\n",
       "    </tr>\n",
       "  </thead>\n",
       "  <tbody>\n",
       "    <tr>\n",
       "      <th>0</th>\n",
       "      <td>citi2023_1</td>\n",
       "      <td>56075</td>\n",
       "    </tr>\n",
       "    <tr>\n",
       "      <th>1</th>\n",
       "      <td>citi2023_2</td>\n",
       "      <td>51213</td>\n",
       "    </tr>\n",
       "    <tr>\n",
       "      <th>2</th>\n",
       "      <td>citi2023_3</td>\n",
       "      <td>63072</td>\n",
       "    </tr>\n",
       "    <tr>\n",
       "      <th>3</th>\n",
       "      <td>citi2023_4</td>\n",
       "      <td>80688</td>\n",
       "    </tr>\n",
       "    <tr>\n",
       "      <th>4</th>\n",
       "      <td>citi2023_5</td>\n",
       "      <td>96002</td>\n",
       "    </tr>\n",
       "  </tbody>\n",
       "</table>\n",
       "</div>"
      ],
      "text/plain": [
       "       Period  total_montly_ride_counts\n",
       "0  citi2023_1                     56075\n",
       "1  citi2023_2                     51213\n",
       "2  citi2023_3                     63072\n",
       "3  citi2023_4                     80688\n",
       "4  citi2023_5                     96002"
      ]
     },
     "execution_count": 3,
     "metadata": {},
     "output_type": "execute_result"
    }
   ],
   "source": [
    "# Print the 2023 Citi Bike DataFrame\n",
    "result2023_df.head()"
   ]
  },
  {
   "cell_type": "markdown",
   "id": "76172247",
   "metadata": {},
   "source": [
    "## Citi Bike 2022 Monthly Total Rides"
   ]
  },
  {
   "cell_type": "code",
   "execution_count": 4,
   "id": "da18aac7",
   "metadata": {},
   "outputs": [],
   "source": [
    "# Create separate variable for counting monthly rides\n",
    "column_counts = []\n",
    "\n",
    "# Specify the target column\n",
    "target_column = 'ride_id'\n",
    "\n",
    "for i in range(1,13):\n",
    "    file_name = f'resource/citi2022_{i}.csv'\n",
    "    df = pd.read_csv(file_name)\n",
    "    \n",
    "    column_count = df[target_column].count()\n",
    "    \n",
    "    column_counts.append(column_count)\n",
    "\n",
    "# Create a new DataFrame for future graphing purpose\n",
    "result2022_df = pd.DataFrame({\n",
    "    'Period': [f'citi2022_{i}' for i in range(1, 13)],\n",
    "    'total_montly_ride_counts': column_counts\n",
    "})"
   ]
  },
  {
   "cell_type": "code",
   "execution_count": 5,
   "id": "c836dd63",
   "metadata": {},
   "outputs": [
    {
     "data": {
      "text/html": [
       "<div>\n",
       "<style scoped>\n",
       "    .dataframe tbody tr th:only-of-type {\n",
       "        vertical-align: middle;\n",
       "    }\n",
       "\n",
       "    .dataframe tbody tr th {\n",
       "        vertical-align: top;\n",
       "    }\n",
       "\n",
       "    .dataframe thead th {\n",
       "        text-align: right;\n",
       "    }\n",
       "</style>\n",
       "<table border=\"1\" class=\"dataframe\">\n",
       "  <thead>\n",
       "    <tr style=\"text-align: right;\">\n",
       "      <th></th>\n",
       "      <th>Period</th>\n",
       "      <th>total_montly_ride_counts</th>\n",
       "    </tr>\n",
       "  </thead>\n",
       "  <tbody>\n",
       "    <tr>\n",
       "      <th>0</th>\n",
       "      <td>citi2022_1</td>\n",
       "      <td>26762</td>\n",
       "    </tr>\n",
       "    <tr>\n",
       "      <th>1</th>\n",
       "      <td>citi2022_2</td>\n",
       "      <td>31911</td>\n",
       "    </tr>\n",
       "    <tr>\n",
       "      <th>2</th>\n",
       "      <td>citi2022_3</td>\n",
       "      <td>51671</td>\n",
       "    </tr>\n",
       "    <tr>\n",
       "      <th>3</th>\n",
       "      <td>citi2022_4</td>\n",
       "      <td>62528</td>\n",
       "    </tr>\n",
       "    <tr>\n",
       "      <th>4</th>\n",
       "      <td>citi2022_5</td>\n",
       "      <td>80482</td>\n",
       "    </tr>\n",
       "  </tbody>\n",
       "</table>\n",
       "</div>"
      ],
      "text/plain": [
       "       Period  total_montly_ride_counts\n",
       "0  citi2022_1                     26762\n",
       "1  citi2022_2                     31911\n",
       "2  citi2022_3                     51671\n",
       "3  citi2022_4                     62528\n",
       "4  citi2022_5                     80482"
      ]
     },
     "execution_count": 5,
     "metadata": {},
     "output_type": "execute_result"
    }
   ],
   "source": [
    "# Print the 2022 Citi Bike DataFrame\n",
    "result2022_df.head()"
   ]
  },
  {
   "cell_type": "markdown",
   "id": "5c6220cf",
   "metadata": {},
   "source": [
    "## Citi Bike 2021 Monthly Total Rides (from Feb to Dec)"
   ]
  },
  {
   "cell_type": "code",
   "execution_count": 6,
   "id": "93ee3fef",
   "metadata": {},
   "outputs": [],
   "source": [
    "# Create separate variable for counting monthly rides\n",
    "column_counts = []\n",
    "\n",
    "# Specify the target column\n",
    "target_column = 'ride_id'\n",
    "\n",
    "for i in range(2,13):\n",
    "    file_name = f'resource/citi2021_{i}.csv'\n",
    "    df = pd.read_csv(file_name)\n",
    "    \n",
    "    column_count = df[target_column].count()\n",
    "    \n",
    "    column_counts.append(column_count)\n",
    "\n",
    "# Create a new DataFrame for future graphing purpose\n",
    "result2021_df = pd.DataFrame({\n",
    "    'Period': [f'citi2021_{i}' for i in range(2, 13)],\n",
    "    'total_montly_ride_counts': column_counts\n",
    "})"
   ]
  },
  {
   "cell_type": "code",
   "execution_count": 7,
   "id": "b49f1fdd",
   "metadata": {},
   "outputs": [
    {
     "data": {
      "text/html": [
       "<div>\n",
       "<style scoped>\n",
       "    .dataframe tbody tr th:only-of-type {\n",
       "        vertical-align: middle;\n",
       "    }\n",
       "\n",
       "    .dataframe tbody tr th {\n",
       "        vertical-align: top;\n",
       "    }\n",
       "\n",
       "    .dataframe thead th {\n",
       "        text-align: right;\n",
       "    }\n",
       "</style>\n",
       "<table border=\"1\" class=\"dataframe\">\n",
       "  <thead>\n",
       "    <tr style=\"text-align: right;\">\n",
       "      <th></th>\n",
       "      <th>Period</th>\n",
       "      <th>total_montly_ride_counts</th>\n",
       "    </tr>\n",
       "  </thead>\n",
       "  <tbody>\n",
       "    <tr>\n",
       "      <th>0</th>\n",
       "      <td>citi2021_2</td>\n",
       "      <td>4881</td>\n",
       "    </tr>\n",
       "    <tr>\n",
       "      <th>1</th>\n",
       "      <td>citi2021_3</td>\n",
       "      <td>17123</td>\n",
       "    </tr>\n",
       "    <tr>\n",
       "      <th>2</th>\n",
       "      <td>citi2021_4</td>\n",
       "      <td>23774</td>\n",
       "    </tr>\n",
       "    <tr>\n",
       "      <th>3</th>\n",
       "      <td>citi2021_5</td>\n",
       "      <td>45043</td>\n",
       "    </tr>\n",
       "    <tr>\n",
       "      <th>4</th>\n",
       "      <td>citi2021_6</td>\n",
       "      <td>71442</td>\n",
       "    </tr>\n",
       "  </tbody>\n",
       "</table>\n",
       "</div>"
      ],
      "text/plain": [
       "       Period  total_montly_ride_counts\n",
       "0  citi2021_2                      4881\n",
       "1  citi2021_3                     17123\n",
       "2  citi2021_4                     23774\n",
       "3  citi2021_5                     45043\n",
       "4  citi2021_6                     71442"
      ]
     },
     "execution_count": 7,
     "metadata": {},
     "output_type": "execute_result"
    }
   ],
   "source": [
    "# Print the 2021 (Feb-Dec) Citi Bike DataFrame\n",
    "result2021_df.head()"
   ]
  },
  {
   "cell_type": "code",
   "execution_count": 8,
   "id": "31cc9da4",
   "metadata": {},
   "outputs": [
    {
     "data": {
      "text/html": [
       "<div>\n",
       "<style scoped>\n",
       "    .dataframe tbody tr th:only-of-type {\n",
       "        vertical-align: middle;\n",
       "    }\n",
       "\n",
       "    .dataframe tbody tr th {\n",
       "        vertical-align: top;\n",
       "    }\n",
       "\n",
       "    .dataframe thead th {\n",
       "        text-align: right;\n",
       "    }\n",
       "</style>\n",
       "<table border=\"1\" class=\"dataframe\">\n",
       "  <thead>\n",
       "    <tr style=\"text-align: right;\">\n",
       "      <th></th>\n",
       "      <th>tripduration</th>\n",
       "      <th>starttime</th>\n",
       "      <th>stoptime</th>\n",
       "      <th>start station id</th>\n",
       "      <th>start station name</th>\n",
       "      <th>start station latitude</th>\n",
       "      <th>start station longitude</th>\n",
       "      <th>end station id</th>\n",
       "      <th>end station name</th>\n",
       "      <th>end station latitude</th>\n",
       "      <th>end station longitude</th>\n",
       "      <th>bikeid</th>\n",
       "      <th>usertype</th>\n",
       "      <th>birth year</th>\n",
       "      <th>gender</th>\n",
       "    </tr>\n",
       "  </thead>\n",
       "  <tbody>\n",
       "    <tr>\n",
       "      <th>0</th>\n",
       "      <td>266</td>\n",
       "      <td>2021-01-01 00:03:35.5100</td>\n",
       "      <td>2021-01-01 00:08:01.7770</td>\n",
       "      <td>3273</td>\n",
       "      <td>Manila &amp; 1st</td>\n",
       "      <td>40.721651</td>\n",
       "      <td>-74.042884</td>\n",
       "      <td>3209</td>\n",
       "      <td>Brunswick St</td>\n",
       "      <td>40.724176</td>\n",
       "      <td>-74.050656</td>\n",
       "      <td>42494</td>\n",
       "      <td>Subscriber</td>\n",
       "      <td>1988</td>\n",
       "      <td>1</td>\n",
       "    </tr>\n",
       "    <tr>\n",
       "      <th>1</th>\n",
       "      <td>1543</td>\n",
       "      <td>2021-01-01 00:23:32.9250</td>\n",
       "      <td>2021-01-01 00:49:16.0830</td>\n",
       "      <td>3681</td>\n",
       "      <td>Grand St</td>\n",
       "      <td>40.715178</td>\n",
       "      <td>-74.037683</td>\n",
       "      <td>3213</td>\n",
       "      <td>Van Vorst Park</td>\n",
       "      <td>40.718489</td>\n",
       "      <td>-74.047727</td>\n",
       "      <td>45343</td>\n",
       "      <td>Customer</td>\n",
       "      <td>1996</td>\n",
       "      <td>2</td>\n",
       "    </tr>\n",
       "    <tr>\n",
       "      <th>2</th>\n",
       "      <td>1461</td>\n",
       "      <td>2021-01-01 00:23:50.7940</td>\n",
       "      <td>2021-01-01 00:48:12.5660</td>\n",
       "      <td>3681</td>\n",
       "      <td>Grand St</td>\n",
       "      <td>40.715178</td>\n",
       "      <td>-74.037683</td>\n",
       "      <td>3213</td>\n",
       "      <td>Van Vorst Park</td>\n",
       "      <td>40.718489</td>\n",
       "      <td>-74.047727</td>\n",
       "      <td>31794</td>\n",
       "      <td>Customer</td>\n",
       "      <td>1995</td>\n",
       "      <td>1</td>\n",
       "    </tr>\n",
       "    <tr>\n",
       "      <th>3</th>\n",
       "      <td>793</td>\n",
       "      <td>2021-01-01 00:31:09.0770</td>\n",
       "      <td>2021-01-01 00:44:22.9430</td>\n",
       "      <td>3185</td>\n",
       "      <td>City Hall</td>\n",
       "      <td>40.717732</td>\n",
       "      <td>-74.043845</td>\n",
       "      <td>3199</td>\n",
       "      <td>Newport Pkwy</td>\n",
       "      <td>40.728745</td>\n",
       "      <td>-74.032108</td>\n",
       "      <td>42316</td>\n",
       "      <td>Customer</td>\n",
       "      <td>1969</td>\n",
       "      <td>0</td>\n",
       "    </tr>\n",
       "    <tr>\n",
       "      <th>4</th>\n",
       "      <td>596</td>\n",
       "      <td>2021-01-01 00:35:52.1900</td>\n",
       "      <td>2021-01-01 00:45:48.7740</td>\n",
       "      <td>3639</td>\n",
       "      <td>Harborside</td>\n",
       "      <td>40.719252</td>\n",
       "      <td>-74.034234</td>\n",
       "      <td>3209</td>\n",
       "      <td>Brunswick St</td>\n",
       "      <td>40.724176</td>\n",
       "      <td>-74.050656</td>\n",
       "      <td>32575</td>\n",
       "      <td>Customer</td>\n",
       "      <td>1969</td>\n",
       "      <td>0</td>\n",
       "    </tr>\n",
       "  </tbody>\n",
       "</table>\n",
       "</div>"
      ],
      "text/plain": [
       "   tripduration                 starttime                  stoptime  \\\n",
       "0           266  2021-01-01 00:03:35.5100  2021-01-01 00:08:01.7770   \n",
       "1          1543  2021-01-01 00:23:32.9250  2021-01-01 00:49:16.0830   \n",
       "2          1461  2021-01-01 00:23:50.7940  2021-01-01 00:48:12.5660   \n",
       "3           793  2021-01-01 00:31:09.0770  2021-01-01 00:44:22.9430   \n",
       "4           596  2021-01-01 00:35:52.1900  2021-01-01 00:45:48.7740   \n",
       "\n",
       "   start station id start station name  start station latitude  \\\n",
       "0              3273       Manila & 1st               40.721651   \n",
       "1              3681           Grand St               40.715178   \n",
       "2              3681           Grand St               40.715178   \n",
       "3              3185          City Hall               40.717732   \n",
       "4              3639         Harborside               40.719252   \n",
       "\n",
       "   start station longitude  end station id end station name  \\\n",
       "0               -74.042884            3209     Brunswick St   \n",
       "1               -74.037683            3213   Van Vorst Park   \n",
       "2               -74.037683            3213   Van Vorst Park   \n",
       "3               -74.043845            3199     Newport Pkwy   \n",
       "4               -74.034234            3209     Brunswick St   \n",
       "\n",
       "   end station latitude  end station longitude  bikeid    usertype  \\\n",
       "0             40.724176             -74.050656   42494  Subscriber   \n",
       "1             40.718489             -74.047727   45343    Customer   \n",
       "2             40.718489             -74.047727   31794    Customer   \n",
       "3             40.728745             -74.032108   42316    Customer   \n",
       "4             40.724176             -74.050656   32575    Customer   \n",
       "\n",
       "   birth year  gender  \n",
       "0        1988       1  \n",
       "1        1996       2  \n",
       "2        1995       1  \n",
       "3        1969       0  \n",
       "4        1969       0  "
      ]
     },
     "execution_count": 8,
     "metadata": {},
     "output_type": "execute_result"
    }
   ],
   "source": [
    "# Loading 2021 Citi Bike January trip data\n",
    "data = pd.read_csv(\"resource/citi2021_1.csv\")\n",
    "data.head()"
   ]
  },
  {
   "cell_type": "code",
   "execution_count": 9,
   "id": "148574ba",
   "metadata": {},
   "outputs": [
    {
     "data": {
      "text/plain": [
       "11624"
      ]
     },
     "execution_count": 9,
     "metadata": {},
     "output_type": "execute_result"
    }
   ],
   "source": [
    "# Check the number of rows\n",
    "len(data)"
   ]
  },
  {
   "cell_type": "code",
   "execution_count": 10,
   "id": "ad30c341",
   "metadata": {},
   "outputs": [],
   "source": [
    "# Drop any rows which have missing information\n",
    "result_2021 = data.dropna()"
   ]
  },
  {
   "cell_type": "code",
   "execution_count": 11,
   "id": "f1b9a7fe",
   "metadata": {},
   "outputs": [
    {
     "data": {
      "text/plain": [
       "11624"
      ]
     },
     "execution_count": 11,
     "metadata": {},
     "output_type": "execute_result"
    }
   ],
   "source": [
    "# Check the number of rows again\n",
    "len(result_2021)"
   ]
  },
  {
   "cell_type": "code",
   "execution_count": 12,
   "id": "c72c82b2",
   "metadata": {},
   "outputs": [],
   "source": [
    "# New row data (2021 Jan)\n",
    "new_row = {'Period': 'citi2021_1', 'total_montly_ride_counts': 11624}\n",
    "\n",
    "# Add the 2021 Jan data to the existing DataFrame\n",
    "result2021_df.loc[-1] = new_row\n",
    "result2021_df.index = result2021_df.index + 1\n",
    "result2021_df = result2021_df.sort_index()"
   ]
  },
  {
   "cell_type": "code",
   "execution_count": 13,
   "id": "ec122ffd",
   "metadata": {},
   "outputs": [
    {
     "data": {
      "text/html": [
       "<div>\n",
       "<style scoped>\n",
       "    .dataframe tbody tr th:only-of-type {\n",
       "        vertical-align: middle;\n",
       "    }\n",
       "\n",
       "    .dataframe tbody tr th {\n",
       "        vertical-align: top;\n",
       "    }\n",
       "\n",
       "    .dataframe thead th {\n",
       "        text-align: right;\n",
       "    }\n",
       "</style>\n",
       "<table border=\"1\" class=\"dataframe\">\n",
       "  <thead>\n",
       "    <tr style=\"text-align: right;\">\n",
       "      <th></th>\n",
       "      <th>Period</th>\n",
       "      <th>total_montly_ride_counts</th>\n",
       "    </tr>\n",
       "  </thead>\n",
       "  <tbody>\n",
       "    <tr>\n",
       "      <th>0</th>\n",
       "      <td>citi2021_1</td>\n",
       "      <td>11624</td>\n",
       "    </tr>\n",
       "    <tr>\n",
       "      <th>1</th>\n",
       "      <td>citi2021_2</td>\n",
       "      <td>4881</td>\n",
       "    </tr>\n",
       "    <tr>\n",
       "      <th>2</th>\n",
       "      <td>citi2021_3</td>\n",
       "      <td>17123</td>\n",
       "    </tr>\n",
       "    <tr>\n",
       "      <th>3</th>\n",
       "      <td>citi2021_4</td>\n",
       "      <td>23774</td>\n",
       "    </tr>\n",
       "    <tr>\n",
       "      <th>4</th>\n",
       "      <td>citi2021_5</td>\n",
       "      <td>45043</td>\n",
       "    </tr>\n",
       "  </tbody>\n",
       "</table>\n",
       "</div>"
      ],
      "text/plain": [
       "       Period  total_montly_ride_counts\n",
       "0  citi2021_1                     11624\n",
       "1  citi2021_2                      4881\n",
       "2  citi2021_3                     17123\n",
       "3  citi2021_4                     23774\n",
       "4  citi2021_5                     45043"
      ]
     },
     "execution_count": 13,
     "metadata": {},
     "output_type": "execute_result"
    }
   ],
   "source": [
    "# Print the full 2021 Citi Bike DataFrame\n",
    "result2021_df.head()"
   ]
  },
  {
   "cell_type": "code",
   "execution_count": 14,
   "id": "0d3e0925",
   "metadata": {},
   "outputs": [],
   "source": [
    "# Merge dataframe from 2021 to 2023\n",
    "full_biketrip_df = pd.concat([result2021_df, result2022_df, result2023_df]).reset_index(drop=True)"
   ]
  },
  {
   "cell_type": "code",
   "execution_count": 15,
   "id": "2a189ec6",
   "metadata": {},
   "outputs": [
    {
     "data": {
      "text/html": [
       "<div>\n",
       "<style scoped>\n",
       "    .dataframe tbody tr th:only-of-type {\n",
       "        vertical-align: middle;\n",
       "    }\n",
       "\n",
       "    .dataframe tbody tr th {\n",
       "        vertical-align: top;\n",
       "    }\n",
       "\n",
       "    .dataframe thead th {\n",
       "        text-align: right;\n",
       "    }\n",
       "</style>\n",
       "<table border=\"1\" class=\"dataframe\">\n",
       "  <thead>\n",
       "    <tr style=\"text-align: right;\">\n",
       "      <th></th>\n",
       "      <th>Period</th>\n",
       "      <th>total_montly_ride_counts</th>\n",
       "    </tr>\n",
       "  </thead>\n",
       "  <tbody>\n",
       "    <tr>\n",
       "      <th>30</th>\n",
       "      <td>citi2023_7</td>\n",
       "      <td>106608</td>\n",
       "    </tr>\n",
       "    <tr>\n",
       "      <th>31</th>\n",
       "      <td>citi2023_8</td>\n",
       "      <td>112027</td>\n",
       "    </tr>\n",
       "    <tr>\n",
       "      <th>32</th>\n",
       "      <td>citi2023_9</td>\n",
       "      <td>94233</td>\n",
       "    </tr>\n",
       "    <tr>\n",
       "      <th>33</th>\n",
       "      <td>citi2023_10</td>\n",
       "      <td>97584</td>\n",
       "    </tr>\n",
       "    <tr>\n",
       "      <th>34</th>\n",
       "      <td>citi2023_11</td>\n",
       "      <td>75646</td>\n",
       "    </tr>\n",
       "  </tbody>\n",
       "</table>\n",
       "</div>"
      ],
      "text/plain": [
       "         Period  total_montly_ride_counts\n",
       "30   citi2023_7                    106608\n",
       "31   citi2023_8                    112027\n",
       "32   citi2023_9                     94233\n",
       "33  citi2023_10                     97584\n",
       "34  citi2023_11                     75646"
      ]
     },
     "execution_count": 15,
     "metadata": {},
     "output_type": "execute_result"
    }
   ],
   "source": [
    "# Print the final trip data\n",
    "full_biketrip_df.tail()"
   ]
  },
  {
   "cell_type": "code",
   "execution_count": 16,
   "id": "d61793ea",
   "metadata": {},
   "outputs": [],
   "source": [
    "# Write the DataFrame to a CSV file\n",
    "full_biketrip_df.to_csv(\"output/full_monthly_ride_counts.csv\", index=False)"
   ]
  },
  {
   "cell_type": "code",
   "execution_count": null,
   "id": "1172b795",
   "metadata": {},
   "outputs": [],
   "source": []
  },
  {
   "cell_type": "code",
   "execution_count": null,
   "id": "bd669877",
   "metadata": {},
   "outputs": [],
   "source": []
  },
  {
   "cell_type": "code",
   "execution_count": null,
   "id": "90169347",
   "metadata": {},
   "outputs": [],
   "source": []
  }
 ],
 "metadata": {
  "kernelspec": {
   "display_name": "Python 3 (ipykernel)",
   "language": "python",
   "name": "python3"
  },
  "language_info": {
   "codemirror_mode": {
    "name": "ipython",
    "version": 3
   },
   "file_extension": ".py",
   "mimetype": "text/x-python",
   "name": "python",
   "nbconvert_exporter": "python",
   "pygments_lexer": "ipython3",
   "version": "3.10.11"
  }
 },
 "nbformat": 4,
 "nbformat_minor": 5
}
